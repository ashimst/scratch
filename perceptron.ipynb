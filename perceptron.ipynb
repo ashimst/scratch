{
 "cells": [
  {
   "cell_type": "code",
   "execution_count": 4,
   "metadata": {},
   "outputs": [],
   "source": [
    "from pydantic import BaseModel,Field\n",
    "from typing import List"
   ]
  },
  {
   "cell_type": "code",
   "execution_count": 7,
   "metadata": {},
   "outputs": [],
   "source": [
    "class PerceptronInput(BaseModel):\n",
    "    input_list: List= Field(...)\n",
    "    label: int"
   ]
  },
  {
   "cell_type": "code",
   "execution_count": 9,
   "metadata": {},
   "outputs": [],
   "source": [
    "class Perceptron:\n",
    "    def __init__(self,lr:float,input:PerceptronInput):\n",
    "        self.lr= lr\n",
    "        self.weights=[]\n",
    "        self.bias= 0\n",
    "        self.input = input\n",
    "        #initialization of weight\n",
    "        for i in range(len(self.input.input_list)):\n",
    "            self.weights.append(0)\n",
    "    def activation_function(self,val:float): #step function\n",
    "        return 1 if val <=0 else 0\n",
    "    def train(self):\n",
    "        y=0\n",
    "        for i in range(len(self.weights)):\n",
    "            y+= self.input.input_list[i]*self.weights[i]\n",
    "        y+= self.bias\n",
    "        loss= self.activation_function((y-loss))\n",
    "        \n",
    "\n",
    "        \n",
    "        \n",
    "\n",
    "\n"
   ]
  },
  {
   "cell_type": "code",
   "execution_count": null,
   "metadata": {},
   "outputs": [],
   "source": []
  }
 ],
 "metadata": {
  "kernelspec": {
   "display_name": "venv",
   "language": "python",
   "name": "python3"
  },
  "language_info": {
   "codemirror_mode": {
    "name": "ipython",
    "version": 3
   },
   "file_extension": ".py",
   "mimetype": "text/x-python",
   "name": "python",
   "nbconvert_exporter": "python",
   "pygments_lexer": "ipython3",
   "version": "3.12.4"
  }
 },
 "nbformat": 4,
 "nbformat_minor": 2
}
